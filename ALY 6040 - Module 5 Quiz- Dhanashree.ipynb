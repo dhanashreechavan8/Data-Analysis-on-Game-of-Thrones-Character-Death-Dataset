{
 "cells": [
  {
   "cell_type": "code",
   "execution_count": 1,
   "metadata": {},
   "outputs": [],
   "source": [
    "import pandas as pd\n",
    "import numpy as np\n",
    "import matplotlib.pyplot as plt\n",
    "import seaborn as sns\n",
    "%matplotlib inline"
   ]
  },
  {
   "cell_type": "code",
   "execution_count": 2,
   "metadata": {},
   "outputs": [],
   "source": [
    "#Import csv\n",
    "Uber=pd.read_csv(\"~/Desktop/UberRequestData.csv\")"
   ]
  },
  {
   "cell_type": "code",
   "execution_count": 3,
   "metadata": {},
   "outputs": [
    {
     "name": "stdout",
     "output_type": "stream",
     "text": [
      "   Request id Pickup point  Driver id          Status Request timestamp  \\\n",
      "0         619      Airport        1.0  Trip Completed  11-07-2016 11:51   \n",
      "1         867      Airport        1.0  Trip Completed  11-07-2016 17:57   \n",
      "2        1807         City        1.0  Trip Completed  12-07-2016 09:17   \n",
      "3        2532      Airport        1.0  Trip Completed  12-07-2016 21:08   \n",
      "4        3112         City        1.0  Trip Completed  13-07-2016 08:33   \n",
      "\n",
      "     Drop timestamp  \n",
      "0  11-07-2016 13:00  \n",
      "1  11-07-2016 18:47  \n",
      "2  12-07-2016 09:58  \n",
      "3  12-07-2016 22:03  \n",
      "4  13-07-2016 09:25  \n",
      "      Request id Pickup point  Driver id             Status Request timestamp  \\\n",
      "6740        6745         City        NaN  No Cars Available  15-07-2016 23:49   \n",
      "6741        6752      Airport        NaN  No Cars Available  15-07-2016 23:50   \n",
      "6742        6751         City        NaN  No Cars Available  15-07-2016 23:52   \n",
      "6743        6754         City        NaN  No Cars Available  15-07-2016 23:54   \n",
      "6744        6753      Airport        NaN  No Cars Available  15-07-2016 23:55   \n",
      "\n",
      "     Drop timestamp  \n",
      "6740            NaN  \n",
      "6741            NaN  \n",
      "6742            NaN  \n",
      "6743            NaN  \n",
      "6744            NaN  \n"
     ]
    }
   ],
   "source": [
    "#Check top 5 rows\n",
    "pd.set_option('display.max_columns',None)\n",
    "print(Uber.head())\n",
    "\n",
    "#Check bottom 5 rows\n",
    "print(Uber.tail())"
   ]
  },
  {
   "cell_type": "code",
   "execution_count": 4,
   "metadata": {},
   "outputs": [
    {
     "name": "stdout",
     "output_type": "stream",
     "text": [
      "(6745, 6)\n",
      "Index(['Request id', 'Pickup point', 'Driver id', 'Status',\n",
      "       'Request timestamp', 'Drop timestamp'],\n",
      "      dtype='object')\n"
     ]
    }
   ],
   "source": [
    "#Check number of rows\n",
    "print(Uber.shape)\n",
    "\n",
    "#Check number of columns\n",
    "print(Uber.columns)"
   ]
  },
  {
   "cell_type": "code",
   "execution_count": 5,
   "metadata": {},
   "outputs": [
    {
     "name": "stdout",
     "output_type": "stream",
     "text": [
      "<class 'pandas.core.frame.DataFrame'>\n",
      "RangeIndex: 6745 entries, 0 to 6744\n",
      "Data columns (total 6 columns):\n",
      " #   Column             Non-Null Count  Dtype  \n",
      "---  ------             --------------  -----  \n",
      " 0   Request id         6745 non-null   int64  \n",
      " 1   Pickup point       6745 non-null   object \n",
      " 2   Driver id          4095 non-null   float64\n",
      " 3   Status             6745 non-null   object \n",
      " 4   Request timestamp  6745 non-null   object \n",
      " 5   Drop timestamp     2831 non-null   object \n",
      "dtypes: float64(1), int64(1), object(4)\n",
      "memory usage: 316.3+ KB\n"
     ]
    }
   ],
   "source": [
    "#Check data types\n",
    "Uber.info()"
   ]
  },
  {
   "cell_type": "code",
   "execution_count": 6,
   "metadata": {},
   "outputs": [],
   "source": [
    "# Removing space from column names\n",
    "Uber.columns = Uber.columns.str.replace(' ', '')"
   ]
  },
  {
   "cell_type": "code",
   "execution_count": 7,
   "metadata": {},
   "outputs": [],
   "source": [
    "#Correcting data types\n",
    "Uber['Requesttimestamp'] = pd.to_datetime(Uber['Requesttimestamp'])\n",
    "Uber['Droptimestamp'] = pd.to_datetime(Uber['Droptimestamp'])"
   ]
  },
  {
   "cell_type": "code",
   "execution_count": 8,
   "metadata": {},
   "outputs": [
    {
     "name": "stdout",
     "output_type": "stream",
     "text": [
      "duplicate rows:  (0, 6)\n"
     ]
    }
   ],
   "source": [
    "# Rows containing duplicate data\n",
    "duplicate_rows_df = Uber[Uber.duplicated()]\n",
    "print(\"duplicate rows: \", duplicate_rows_df.shape)"
   ]
  },
  {
   "cell_type": "code",
   "execution_count": 9,
   "metadata": {},
   "outputs": [
    {
     "data": {
      "text/plain": [
       "Requestid              0\n",
       "Pickuppoint            0\n",
       "Driverid            2650\n",
       "Status                 0\n",
       "Requesttimestamp       0\n",
       "Droptimestamp       3914\n",
       "dtype: int64"
      ]
     },
     "execution_count": 9,
     "metadata": {},
     "output_type": "execute_result"
    }
   ],
   "source": [
    "#Check for missing values\n",
    "Uber.isnull().sum()"
   ]
  },
  {
   "cell_type": "code",
   "execution_count": 10,
   "metadata": {},
   "outputs": [],
   "source": [
    "#As driver id does not contribute in analysis hence we can drop it\n",
    "Uber.drop(['Driverid'], axis=1, inplace=True)"
   ]
  },
  {
   "cell_type": "code",
   "execution_count": 11,
   "metadata": {},
   "outputs": [
    {
     "name": "stdout",
     "output_type": "stream",
     "text": [
      "City       3507\n",
      "Airport    3238\n",
      "Name: Pickuppoint, dtype: int64\n",
      "------------------------------------\n",
      "Trip Completed       2831\n",
      "No Cars Available    2650\n",
      "Cancelled            1264\n",
      "Name: Status, dtype: int64\n",
      "------------------------------------\n"
     ]
    }
   ],
   "source": [
    "#Frequency distribution of values in variables\n",
    "col_names=['Pickuppoint','Status']\n",
    "#col_names=['Pickuppoint','Status','day_of_week']\n",
    "\n",
    "\n",
    "for col in col_names:\n",
    "    \n",
    "    print(Uber[col].value_counts())\n",
    "    print(\"------------------------------------\")\n"
   ]
  },
  {
   "cell_type": "code",
   "execution_count": 12,
   "metadata": {},
   "outputs": [],
   "source": [
    "Uber['day_of_week'] = Uber['Requesttimestamp'].dt.day_name()"
   ]
  },
  {
   "cell_type": "code",
   "execution_count": 13,
   "metadata": {},
   "outputs": [],
   "source": [
    "Uber['RequestHour'] = Uber['Requesttimestamp'].dt.hour"
   ]
  },
  {
   "cell_type": "code",
   "execution_count": 14,
   "metadata": {},
   "outputs": [],
   "source": [
    "# create a list of our conditions\n",
    "conditions = [\n",
    "    (Uber['RequestHour'] >= 0) & (Uber['RequestHour'] < 4),\n",
    "    (Uber['RequestHour'] >= 4) & (Uber['RequestHour'] < 8),\n",
    "    (Uber['RequestHour'] >= 8) & (Uber['RequestHour'] < 12),\n",
    "    (Uber['RequestHour'] >= 12) & (Uber['RequestHour'] < 16),\n",
    "    (Uber['RequestHour'] >= 16) & (Uber['RequestHour'] < 20),\n",
    "    (Uber['RequestHour'] >= 20) & (Uber['RequestHour'] < 24)\n",
    "    ]\n",
    "\n",
    "\n",
    "# create a list of the values we want to assign for each condition\n",
    "values = ['Late Night','Early Morning', 'Morning', 'Afternoon', 'Evening','Night']\n",
    "\n",
    "# create a new column and use np.select to assign values to it using our lists as arguments\n",
    "Uber['TimeSlot'] = np.select(conditions, values)\n"
   ]
  },
  {
   "cell_type": "code",
   "execution_count": 15,
   "metadata": {},
   "outputs": [
    {
     "name": "stdout",
     "output_type": "stream",
     "text": [
      "Requestid           0\n",
      "Pickuppoint         0\n",
      "Status              0\n",
      "Requesttimestamp    0\n",
      "Droptimestamp       0\n",
      "day_of_week         0\n",
      "RequestHour         0\n",
      "TimeSlot            0\n",
      "dtype: int64\n"
     ]
    },
    {
     "data": {
      "text/html": [
       "<div>\n",
       "<style scoped>\n",
       "    .dataframe tbody tr th:only-of-type {\n",
       "        vertical-align: middle;\n",
       "    }\n",
       "\n",
       "    .dataframe tbody tr th {\n",
       "        vertical-align: top;\n",
       "    }\n",
       "\n",
       "    .dataframe thead th {\n",
       "        text-align: right;\n",
       "    }\n",
       "</style>\n",
       "<table border=\"1\" class=\"dataframe\">\n",
       "  <thead>\n",
       "    <tr style=\"text-align: right;\">\n",
       "      <th></th>\n",
       "      <th>Requestid</th>\n",
       "      <th>Pickuppoint</th>\n",
       "      <th>Status</th>\n",
       "      <th>Requesttimestamp</th>\n",
       "      <th>Droptimestamp</th>\n",
       "      <th>day_of_week</th>\n",
       "      <th>RequestHour</th>\n",
       "      <th>TimeSlot</th>\n",
       "    </tr>\n",
       "  </thead>\n",
       "  <tbody>\n",
       "    <tr>\n",
       "      <th>0</th>\n",
       "      <td>619</td>\n",
       "      <td>Airport</td>\n",
       "      <td>Trip Completed</td>\n",
       "      <td>2016-11-07 11:51:00</td>\n",
       "      <td>2016-11-07 13:00:00</td>\n",
       "      <td>Monday</td>\n",
       "      <td>11</td>\n",
       "      <td>Morning</td>\n",
       "    </tr>\n",
       "    <tr>\n",
       "      <th>1</th>\n",
       "      <td>867</td>\n",
       "      <td>Airport</td>\n",
       "      <td>Trip Completed</td>\n",
       "      <td>2016-11-07 17:57:00</td>\n",
       "      <td>2016-11-07 18:47:00</td>\n",
       "      <td>Monday</td>\n",
       "      <td>17</td>\n",
       "      <td>Evening</td>\n",
       "    </tr>\n",
       "    <tr>\n",
       "      <th>2</th>\n",
       "      <td>1807</td>\n",
       "      <td>City</td>\n",
       "      <td>Trip Completed</td>\n",
       "      <td>2016-12-07 09:17:00</td>\n",
       "      <td>2016-12-07 09:58:00</td>\n",
       "      <td>Wednesday</td>\n",
       "      <td>9</td>\n",
       "      <td>Morning</td>\n",
       "    </tr>\n",
       "    <tr>\n",
       "      <th>3</th>\n",
       "      <td>2532</td>\n",
       "      <td>Airport</td>\n",
       "      <td>Trip Completed</td>\n",
       "      <td>2016-12-07 21:08:00</td>\n",
       "      <td>2016-12-07 22:03:00</td>\n",
       "      <td>Wednesday</td>\n",
       "      <td>21</td>\n",
       "      <td>Night</td>\n",
       "    </tr>\n",
       "    <tr>\n",
       "      <th>4</th>\n",
       "      <td>3112</td>\n",
       "      <td>City</td>\n",
       "      <td>Trip Completed</td>\n",
       "      <td>2016-07-13 08:33:00</td>\n",
       "      <td>2016-07-13 09:25:00</td>\n",
       "      <td>Wednesday</td>\n",
       "      <td>8</td>\n",
       "      <td>Morning</td>\n",
       "    </tr>\n",
       "    <tr>\n",
       "      <th>...</th>\n",
       "      <td>...</td>\n",
       "      <td>...</td>\n",
       "      <td>...</td>\n",
       "      <td>...</td>\n",
       "      <td>...</td>\n",
       "      <td>...</td>\n",
       "      <td>...</td>\n",
       "      <td>...</td>\n",
       "    </tr>\n",
       "    <tr>\n",
       "      <th>2826</th>\n",
       "      <td>1315</td>\n",
       "      <td>Airport</td>\n",
       "      <td>Trip Completed</td>\n",
       "      <td>2016-11-07 22:54:00</td>\n",
       "      <td>2016-11-07 23:35:00</td>\n",
       "      <td>Monday</td>\n",
       "      <td>22</td>\n",
       "      <td>Night</td>\n",
       "    </tr>\n",
       "    <tr>\n",
       "      <th>2827</th>\n",
       "      <td>2924</td>\n",
       "      <td>City</td>\n",
       "      <td>Trip Completed</td>\n",
       "      <td>2016-07-13 06:31:00</td>\n",
       "      <td>2016-07-13 07:20:00</td>\n",
       "      <td>Wednesday</td>\n",
       "      <td>6</td>\n",
       "      <td>Early Morning</td>\n",
       "    </tr>\n",
       "    <tr>\n",
       "      <th>2828</th>\n",
       "      <td>3324</td>\n",
       "      <td>Airport</td>\n",
       "      <td>Trip Completed</td>\n",
       "      <td>2016-07-13 12:33:00</td>\n",
       "      <td>2016-07-13 13:16:00</td>\n",
       "      <td>Wednesday</td>\n",
       "      <td>12</td>\n",
       "      <td>Afternoon</td>\n",
       "    </tr>\n",
       "    <tr>\n",
       "      <th>2829</th>\n",
       "      <td>3935</td>\n",
       "      <td>Airport</td>\n",
       "      <td>Trip Completed</td>\n",
       "      <td>2016-07-13 22:26:00</td>\n",
       "      <td>2016-07-13 23:43:00</td>\n",
       "      <td>Wednesday</td>\n",
       "      <td>22</td>\n",
       "      <td>Night</td>\n",
       "    </tr>\n",
       "    <tr>\n",
       "      <th>2830</th>\n",
       "      <td>5844</td>\n",
       "      <td>Airport</td>\n",
       "      <td>Trip Completed</td>\n",
       "      <td>2016-07-15 09:07:00</td>\n",
       "      <td>2016-07-15 09:56:00</td>\n",
       "      <td>Friday</td>\n",
       "      <td>9</td>\n",
       "      <td>Morning</td>\n",
       "    </tr>\n",
       "  </tbody>\n",
       "</table>\n",
       "<p>2831 rows × 8 columns</p>\n",
       "</div>"
      ],
      "text/plain": [
       "      Requestid Pickuppoint          Status    Requesttimestamp  \\\n",
       "0           619     Airport  Trip Completed 2016-11-07 11:51:00   \n",
       "1           867     Airport  Trip Completed 2016-11-07 17:57:00   \n",
       "2          1807        City  Trip Completed 2016-12-07 09:17:00   \n",
       "3          2532     Airport  Trip Completed 2016-12-07 21:08:00   \n",
       "4          3112        City  Trip Completed 2016-07-13 08:33:00   \n",
       "...         ...         ...             ...                 ...   \n",
       "2826       1315     Airport  Trip Completed 2016-11-07 22:54:00   \n",
       "2827       2924        City  Trip Completed 2016-07-13 06:31:00   \n",
       "2828       3324     Airport  Trip Completed 2016-07-13 12:33:00   \n",
       "2829       3935     Airport  Trip Completed 2016-07-13 22:26:00   \n",
       "2830       5844     Airport  Trip Completed 2016-07-15 09:07:00   \n",
       "\n",
       "           Droptimestamp day_of_week  RequestHour       TimeSlot  \n",
       "0    2016-11-07 13:00:00      Monday           11        Morning  \n",
       "1    2016-11-07 18:47:00      Monday           17        Evening  \n",
       "2    2016-12-07 09:58:00   Wednesday            9        Morning  \n",
       "3    2016-12-07 22:03:00   Wednesday           21          Night  \n",
       "4    2016-07-13 09:25:00   Wednesday            8        Morning  \n",
       "...                  ...         ...          ...            ...  \n",
       "2826 2016-11-07 23:35:00      Monday           22          Night  \n",
       "2827 2016-07-13 07:20:00   Wednesday            6  Early Morning  \n",
       "2828 2016-07-13 13:16:00   Wednesday           12      Afternoon  \n",
       "2829 2016-07-13 23:43:00   Wednesday           22          Night  \n",
       "2830 2016-07-15 09:56:00      Friday            9        Morning  \n",
       "\n",
       "[2831 rows x 8 columns]"
      ]
     },
     "execution_count": 15,
     "metadata": {},
     "output_type": "execute_result"
    }
   ],
   "source": [
    "Completed = Uber['Status'] == \"Trip Completed\"\n",
    "print(Uber[Completed].isnull().sum())\n",
    "Completed=Uber[Completed].copy()\n",
    "Completed"
   ]
  },
  {
   "cell_type": "code",
   "execution_count": 16,
   "metadata": {},
   "outputs": [
    {
     "name": "stdout",
     "output_type": "stream",
     "text": [
      "Requestid              0\n",
      "Pickuppoint            0\n",
      "Status                 0\n",
      "Requesttimestamp       0\n",
      "Droptimestamp       2650\n",
      "day_of_week            0\n",
      "RequestHour            0\n",
      "TimeSlot               0\n",
      "dtype: int64\n",
      "(2650, 8)\n"
     ]
    }
   ],
   "source": [
    "NotAvailable = Uber['Status'] == \"No Cars Available\"\n",
    "print(Uber[NotAvailable].isnull().sum())\n",
    "print(Uber[NotAvailable].shape)\n",
    "\n",
    "#We can see all car rides where car was unavailable has no timestamp"
   ]
  },
  {
   "cell_type": "code",
   "execution_count": 17,
   "metadata": {},
   "outputs": [],
   "source": [
    "NotAvailable=Uber[NotAvailable].copy()"
   ]
  },
  {
   "cell_type": "code",
   "execution_count": 18,
   "metadata": {},
   "outputs": [
    {
     "name": "stdout",
     "output_type": "stream",
     "text": [
      "Requestid              0\n",
      "Pickuppoint            0\n",
      "Status                 0\n",
      "Requesttimestamp       0\n",
      "Droptimestamp       1264\n",
      "day_of_week            0\n",
      "RequestHour            0\n",
      "TimeSlot               0\n",
      "dtype: int64\n",
      "(1264, 8)\n"
     ]
    }
   ],
   "source": [
    "Cancelled = Uber['Status'] == \"Cancelled\"\n",
    "Cancelled\n",
    "print(Uber[Cancelled].isnull().sum())\n",
    "print(Uber[Cancelled].shape)\n",
    "\n",
    "#We can see all car rides which was cancelled has no timestamp"
   ]
  },
  {
   "cell_type": "code",
   "execution_count": 19,
   "metadata": {},
   "outputs": [],
   "source": [
    "Cancelled=Uber[Cancelled].copy()"
   ]
  },
  {
   "cell_type": "code",
   "execution_count": 20,
   "metadata": {},
   "outputs": [
    {
     "data": {
      "text/plain": [
       "Text(0.5, 1.0, 'Freqeuncy Distribution of Pick up point when demand is met')"
      ]
     },
     "execution_count": 20,
     "metadata": {},
     "output_type": "execute_result"
    },
    {
     "data": {
      "image/png": "[encoded data removed]",
      "text/plain": [
       "<Figure size 432x288 with 1 Axes>"
      ]
     },
     "metadata": {
      "needs_background": "light"
     },
     "output_type": "display_data"
    }
   ],
   "source": [
    "ax = sns.countplot(x=\"Pickuppoint\", data=Completed)\n",
    "ax.set(xlabel='Pick up point', ylabel='Number of records')\n",
    "plt.title(\"Freqeuncy Distribution of Pick up point when demand is met\")\n",
    "#City is more problematic may be because of the traffic and usually airport is in the outskirts of the city hence it is less problematic, but if observed clearlt there is not much different in frequnecy for both pick up points"
   ]
  },
  {
   "cell_type": "code",
   "execution_count": 21,
   "metadata": {},
   "outputs": [
    {
     "data": {
      "text/plain": [
       "Text(0.5, 1.0, 'Freqeuncy Distribution of Pick up point when car not available')"
      ]
     },
     "execution_count": 21,
     "metadata": {},
     "output_type": "execute_result"
    },
    {
     "data": {
      "image/png": "[encoded data removed]",
      "text/plain": [
       "<Figure size 432x288 with 1 Axes>"
      ]
     },
     "metadata": {
      "needs_background": "light"
     },
     "output_type": "display_data"
    }
   ],
   "source": [
    "ax = sns.countplot(x=\"Pickuppoint\", data=NotAvailable)\n",
    "ax.set(xlabel='Pick up point', ylabel='Number of records')\n",
    "plt.title(\"Freqeuncy Distribution of Pick up point when car not available\")"
   ]
  },
  {
   "cell_type": "code",
   "execution_count": 22,
   "metadata": {},
   "outputs": [
    {
     "data": {
      "text/plain": [
       "Text(0.5, 1.0, 'Freqeuncy Distribution of Pick up point when trip is cancelled')"
      ]
     },
     "execution_count": 22,
     "metadata": {},
     "output_type": "execute_result"
    },
    {
     "data": {
      "image/png": "[encoded data removed]",
      "text/plain": [
       "<Figure size 432x288 with 1 Axes>"
      ]
     },
     "metadata": {
      "needs_background": "light"
     },
     "output_type": "display_data"
    }
   ],
   "source": [
    "ax = sns.countplot(x=\"Pickuppoint\", data=Cancelled)\n",
    "ax.set(xlabel='Pick up point', ylabel='Number of records')\n",
    "plt.title(\"Freqeuncy Distribution of Pick up point when trip is cancelled\")"
   ]
  },
  {
   "cell_type": "code",
   "execution_count": 23,
   "metadata": {},
   "outputs": [
    {
     "data": {
      "image/png": "[encoded data removed]",
      "text/plain": [
       "<Figure size 432x288 with 1 Axes>"
      ]
     },
     "metadata": {
      "needs_background": "light"
     },
     "output_type": "display_data"
    }
   ],
   "source": [
    "ax = sns.countplot(x=\"day_of_week\", data=Uber)\n",
    "#It seems Wednesday has most number of trip requests"
   ]
  },
  {
   "cell_type": "code",
   "execution_count": 24,
   "metadata": {},
   "outputs": [
    {
     "data": {
      "image/png": "[encoded data removed]",
      "text/plain": [
       "<Figure size 432x288 with 1 Axes>"
      ]
     },
     "metadata": {
      "needs_background": "light"
     },
     "output_type": "display_data"
    }
   ],
   "source": [
    "ax = sns.countplot(x=\"day_of_week\", hue=\"Pickuppoint\", data=Cancelled)\n",
    "# Wednesday and City has most of the trip of cancellations may be because on wednesday Traffic is more."
   ]
  },
  {
   "cell_type": "code",
   "execution_count": 31,
   "metadata": {},
   "outputs": [],
   "source": [
    "WednesdayCancelled = Cancelled['day_of_week'] == \"Wednesday\""
   ]
  },
  {
   "cell_type": "code",
   "execution_count": 34,
   "metadata": {},
   "outputs": [],
   "source": [
    "WednesdayCancelled=Cancelled[WednesdayCancelled]"
   ]
  },
  {
   "cell_type": "code",
   "execution_count": 38,
   "metadata": {},
   "outputs": [
    {
     "data": {
      "image/png": "[encoded data removed]",
      "text/plain": [
       "<Figure size 432x288 with 1 Axes>"
      ]
     },
     "metadata": {
      "needs_background": "light"
     },
     "output_type": "display_data"
    }
   ],
   "source": [
    "ax = sns.countplot(x=\"TimeSlot\", hue=\"Pickuppoint\", data=WednesdayCancelled)\n",
    "# Wednesday and City has most of the trip of cancellations may be because on wednesday Traffic is more."
   ]
  },
  {
   "cell_type": "code",
   "execution_count": null,
   "metadata": {},
   "outputs": [],
   "source": []
  }
 ],
 "metadata": {
  "kernelspec": {
   "display_name": "Python 3",
   "language": "python",
   "name": "python3"
  },
  "language_info": {
   "codemirror_mode": {
    "name": "ipython",
    "version": 3
   },
   "file_extension": ".py",
   "mimetype": "text/x-python",
   "name": "python",
   "nbconvert_exporter": "python",
   "pygments_lexer": "ipython3",
   "version": "3.7.6"
  }
 },
 "nbformat": 4,
 "nbformat_minor": 4
}
